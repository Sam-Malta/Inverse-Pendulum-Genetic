{
 "cells": [
  {
   "attachments": {},
   "cell_type": "markdown",
   "metadata": {},
   "source": [
    "# Info\n",
    "\n",
    "- This is an implementation of a genetic algorithm training a simple neural net to balance an inverse pendulum"
   ]
  },
  {
   "cell_type": "code",
   "execution_count": null,
   "metadata": {},
   "outputs": [],
   "source": [
    "%pip install gymnasium --quiet\n",
    "%pip install tqdm\n",
    "%pip install pygame\n",
    "%pip install matplotlib\n",
    "%load_ext autoreload\n",
    "%autoreload 2"
   ]
  },
  {
   "cell_type": "code",
   "execution_count": null,
   "metadata": {},
   "outputs": [],
   "source": [
    "import gymnasium as gym\n",
    "import tqdm\n",
    "import geneticAlgorithm as ga\n",
    "import nn\n"
   ]
  },
  {
   "cell_type": "code",
   "execution_count": null,
   "metadata": {},
   "outputs": [],
   "source": [
    "env = gym.make(\"Pendulum-v1\", render_mode=\"human\")\n"
   ]
  },
  {
   "cell_type": "code",
   "execution_count": null,
   "metadata": {},
   "outputs": [],
   "source": [
    "numSteps = 20\n",
    "numGens = 10\n",
    "genetic = ga.genetic(env, numGens, 0.1, 10, numSteps)\n",
    "\n",
    "genetic.run()"
   ]
  }
 ],
 "metadata": {
  "kernelspec": {
   "display_name": "pendulum",
   "language": "python",
   "name": "python3"
  },
  "language_info": {
   "codemirror_mode": {
    "name": "ipython",
    "version": 3
   },
   "file_extension": ".py",
   "mimetype": "text/x-python",
   "name": "python",
   "nbconvert_exporter": "python",
   "pygments_lexer": "ipython3",
   "version": "3.11.2"
  },
  "orig_nbformat": 4,
  "vscode": {
   "interpreter": {
    "hash": "e5c7555f5b9347a4d68b140c8a25f1850a1469dbd0e737ad2f269f9259f465d7"
   }
  }
 },
 "nbformat": 4,
 "nbformat_minor": 2
}
